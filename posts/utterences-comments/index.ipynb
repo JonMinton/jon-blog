{
  "cells": [
    {
      "cell_type": "raw",
      "metadata": {},
      "source": [
        "---\n",
        "title: \"New blog feature: comments\"\n",
        "author: \"Jon Minton\"\n",
        "date: \"2023-12-02\"\n",
        "categories: [quarto, blog]\n",
        "---"
      ],
      "id": "c6b4f4f8"
    },
    {
      "cell_type": "markdown",
      "metadata": {},
      "source": [
        "I *think* I've managed to set up a blog comment feature for each of the posts.\n",
        "\n",
        "As usual, the quarto documentation is great, though information on comments is in the [HTML basics section](https://quarto.org/docs/output-formats/html-basics.html#commenting) rather than the [website or blog](https://quarto.org/docs/websites/) section, so takes a bit of hunting. [Albert Rapp's very comprehensive blogpost](https://albert-rapp.de/posts/13_quarto_blog_writing_guide/13_quarto_blog_writing_guide.html) is a great resource, covering this and much else.\n",
        "\n",
        "The Quarto documentation gives three options for comments:\n",
        "\n",
        "-   Hypothes.is, which allows comments and annotations to be provided line-by-line, a bit like non-editable tracked changes.\n",
        "-   utterances, which is a lightweight interface based on the discussion feature in github.\n",
        "-   giscus, which seems to be built on utterances, but a bit more heavy-weight/opinionated.\n",
        "\n",
        "I've attempted, and think I've managed to implement, utterances.\n",
        "\n",
        "In order to make a comment on a post, you need to have a Github username, and log in.\n",
        "\n",
        "From my end, I needed to do the following:\n",
        "\n",
        "1.  Set up a public Github repo for blog comments. I unimaginately called this `BlogComments`\n",
        "2.  Install utterances on github and associate it with this repo\n",
        "3.  Within the file `posts/_metadata.yml`, add the following declaration\n",
        "\n",
        "\n",
        "```{yaml}\n",
        "#| eval: false\n",
        "#| echo: true\n",
        "\n",
        "comments: \n",
        "  utterances: \n",
        "    repo:  JonMinton/BlogComments\n",
        "```"
      ],
      "id": "4a3a9da1"
    }
  ],
  "metadata": {
    "kernelspec": {
      "display_name": "Python 3",
      "language": "python",
      "name": "python3"
    }
  },
  "nbformat": 4,
  "nbformat_minor": 5
}