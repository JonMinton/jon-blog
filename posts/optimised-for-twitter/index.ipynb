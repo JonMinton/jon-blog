{
  "cells": [
    {
      "cell_type": "raw",
      "metadata": {},
      "source": [
        "---\n",
        "title: \"Optimised for Twitter?\"\n",
        "author: \"Jon Minton\"\n",
        "date: \"2023-12-08\"\n",
        "categories: [twitter, X, news]\n",
        "---"
      ],
      "id": "c10c22fc"
    },
    {
      "cell_type": "markdown",
      "metadata": {},
      "source": [
        "I've finally got around to 'optimising the Quarto blog for Twitter', by following the guidance in [this section](https://quarto.org/docs/websites/website-tools.html#twitter-cards) of Quarto's website and adding the following declaration to the `_quarto.yml` file in the project root. \n",
        "\n",
        "\n",
        "```{yaml}\n",
        "#| eval: false\n",
        "website:\n",
        "  twitter-card:\n",
        "   site: \"@jonminton\"\n",
        "```"
      ],
      "id": "787b182a"
    }
  ],
  "metadata": {
    "kernelspec": {
      "display_name": "Python 3",
      "language": "python",
      "name": "python3"
    }
  },
  "nbformat": 4,
  "nbformat_minor": 5
}